{
 "cells": [
  {
   "cell_type": "code",
   "execution_count": null,
   "metadata": {},
   "outputs": [],
   "source": [
    "from PIL import Image\n",
    "from IPython.display import display\n",
    "\n",
    "import PyNvCodec as nvc\n",
    "import numpy as np\n",
    "import os"
   ]
  },
  {
   "cell_type": "code",
   "execution_count": null,
   "metadata": {},
   "outputs": [],
   "source": [
    "def make_img(buffer,w,h,format,merge=False):\n",
    "    \"\"\"\n",
    "    utility function to build image from buffers. requires numpy, pillow. \n",
    "    \n",
    "    Parameters\n",
    "    ----------\n",
    "    buffer:  Numpy array\n",
    "    w, h :   Width and height of image, regardeless of buffer format\n",
    "    format : Format of buffer. may be RGB, RGB_Planar, NV12, YUV420p\n",
    "    merge :  Whether we should reconstitute rgb image or display the whole buffer (as grayscale image)\n",
    "    \"\"\"\n",
    "    \n",
    "    match format:\n",
    "        case 'RGB':\n",
    "            return Image.fromarray(buffer.reshape(h,w,3))\n",
    "        case 'RGB_Planar':\n",
    "            if not merge:\n",
    "                return Image.fromarray(buffer.reshape(h*3,w))\n",
    "            else:\n",
    "                return Image.fromarray(buffer.reshape(3,h,w).transpose(2,1,0)).transpose(Image.TRANSPOSE)\n",
    "        case 'NV12':\n",
    "            if not merge:\n",
    "                return Image.fromarray(buffer.reshape(h*3//2,w))\n",
    "            else:\n",
    "                y=Image.fromarray(buffer[:w*h].reshape(h,w))\n",
    "                u=Image.fromarray(buffer[w*h:][::2].reshape(h//2,w//2).repeat(2, axis=0).repeat(2, axis=1))\n",
    "                v=Image.fromarray(buffer[w*h+1:][::2].reshape(h//2,w//2).repeat(2, axis=0).repeat(2, axis=1))\n",
    "                return Image.merge('YCbCr', (y,u,v))\n",
    "        case 'YUV420p':\n",
    "            if not merge:\n",
    "                return Image.fromarray(buffer.reshape(h*3//2,w))\n",
    "            else:\n",
    "                y=Image.fromarray(buffer[:w*h].reshape(h,w))\n",
    "                u=Image.fromarray(buffer[w*h:w*h*5//4].reshape(h//2,w//2).repeat(2, axis=0).repeat(2, axis=1))\n",
    "                v=Image.fromarray(buffer[w*h*5//4:].reshape(h//2,w//2).repeat(2, axis=0).repeat(2, axis=1))\n",
    "                return Image.merge('YCbCr', (y,u,v))"
   ]
  },
  {
   "cell_type": "code",
   "execution_count": null,
   "metadata": {},
   "outputs": [],
   "source": [
    "class TwoPassConverter:\n",
    "    def __init__(self,fmt,w,h):\n",
    "        self.fmt,self.w,self.h=fmt,w,h\n",
    "        self.to_yuv=nvc.PySurfaceConverter(fmt,nvc.PixelFormat.YUV420,gpu_id=0)\n",
    "        self.to_rgb=nvc.PySurfaceConverter(nvc.PixelFormat.YUV420,nvc.PixelFormat.RGB,gpu_id=0)\n",
    "        self.surf_yuv = nvc.Surface.Make(format=self.fmt, width=self.w,height=self.h,gpu_id=0)\n",
    "\n",
    "    def Run(self,src,dst,cc_ctx):\n",
    "        self.surf_yuv = nvc.Surface.Make(format=self.fmt, width=self.w,height=self.h,gpu_id=0)\n",
    "        success,details=self.to_yuv.Run(src,self.surf_yuv,cc_ctx)\n",
    "        if not success:\n",
    "            return success, details\n",
    "        success,details=self.to_rgb.Run(self.surf_yuv,dst,cc_ctx)\n",
    "        return success, details\n",
    "\n",
    "class OnePassConverter:\n",
    "    def __init__(self,fmt,w,h):\n",
    "        self.fmt, self.w, self.h=fmt, w, h\n",
    "        self.to_rgb=nvc.PySurfaceConverter(fmt,nvc.PixelFormat.RGB,gpu_id=0)\n",
    "        \n",
    "    def Run(self,src,dst,cc_ctx):\n",
    "        success,details=self.to_rgb.Run(src,dst,cc_ctx)\n",
    "        return success, details\n",
    "\n",
    "def check(success, info):\n",
    "    if not success:\n",
    "        print(sys._getframe(1).f_lineno)\n",
    "        print(info)"
   ]
  },
  {
   "cell_type": "code",
   "execution_count": null,
   "metadata": {},
   "outputs": [],
   "source": [
    "class StopExecution(Exception):\n",
    "    def _render_traceback_(self):\n",
    "        return []"
   ]
  },
  {
   "cell_type": "code",
   "execution_count": null,
   "metadata": {},
   "outputs": [],
   "source": [
    "url=\"/home/yves/Devel/python/vali_luma_chroma_shift/hires.mp4\"\n",
    "#url=f\"{os.environ['VALI']}/tests/data/test.mp4\"\n",
    "sq=256 if 'lores' in url else 512"
   ]
  },
  {
   "cell_type": "code",
   "execution_count": null,
   "metadata": {},
   "outputs": [],
   "source": [
    "# GPU-accelerated decoder\n",
    "pyDec = nvc.PyDecoder( url, {}, gpu_id=0)\n",
    "assert (pyDec.Format()==nvc.PixelFormat.NV12)\n",
    "cvt=OnePassConverter(pyDec.Format(),pyDec.Width(),pyDec.Height())\n",
    "cc_ctx = nvc.ColorspaceConversionContext(nvc.ColorSpace.BT_709,nvc.ColorRange.MPEG)\n",
    "pyDwn = nvc.PySurfaceDownloader(gpu_id=0)"
   ]
  },
  {
   "cell_type": "code",
   "execution_count": null,
   "metadata": {},
   "outputs": [],
   "source": [
    "# Raw decoded Surface\n",
    "surf_src = nvc.Surface.Make(format=pyDec.Format(),       width=pyDec.Width(), height=pyDec.Height(), gpu_id=0)\n",
    "surf_dst = nvc.Surface.Make(format=nvc.PixelFormat.RGB,  width=pyDec.Width(), height=pyDec.Height(), gpu_id=0)\n",
    "\n",
    "# Numpy array which contains decoded RGB Surface\n",
    "rgb_frame = np.ndarray(dtype=np.uint8,shape=surf_dst.HostSize())\n",
    "nv_frame  = np.ndarray(dtype=np.uint8,shape=pyDec.Width()*pyDec.Height()*3//2)\n",
    "\n",
    "for _ in range (10):\n",
    "    assert (pyDec.Format()==nvc.PixelFormat.NV12)\n",
    "\n",
    "    # Decode single Surface\n",
    "    success, info = pyDec.DecodeSingleSurface(surf_src)\n",
    "\n",
    "    success, info = pyDwn.Run(surf_src, nv_frame)        ## get raw decoded frame, later decoded by pillow!\n",
    "    success, info = cvt.Run(surf_src,surf_dst,cc_ctx)    ## convert to rgb! \n",
    "    success, info = pyDwn.Run(surf_dst, rgb_frame)       ## get rgb converted frame\n",
    "\n",
    "    res_frame = np.reshape(rgb_frame,(pyDec.Height(), pyDec.Width(), 3))\n",
    "    display(Image.fromarray(res_frame))#.crop((pyDec.Width()//2,pyDec.Height()//2,sq+pyDec.Width()//2,sq+pyDec.Height()//2)))#.resize((320,160)))\n",
    "\n",
    "    res_img=make_img(nv_frame,pyDec.Width(),pyDec.Height(),'NV12',merge=True)\n",
    "    display(res_img)#.crop((pyDec.Width()//2,pyDec.Height()//2,sq+pyDec.Width()//2,sq+pyDec.Height()//2)))#.resize((320,160)))"
   ]
  },
  {
   "cell_type": "code",
   "execution_count": null,
   "metadata": {},
   "outputs": [],
   "source": []
  }
 ],
 "metadata": {
  "kernelspec": {
   "display_name": "Python 3 (ipykernel)",
   "language": "python",
   "name": "python3"
  },
  "language_info": {
   "codemirror_mode": {
    "name": "ipython",
    "version": 3
   },
   "file_extension": ".py",
   "mimetype": "text/x-python",
   "name": "python",
   "nbconvert_exporter": "python",
   "pygments_lexer": "ipython3",
   "version": "3.12.4"
  }
 },
 "nbformat": 4,
 "nbformat_minor": 4
}
